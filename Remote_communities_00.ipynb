{
 "cells": [
  {
   "cell_type": "code",
   "execution_count": 1,
   "id": "6f424a0b",
   "metadata": {},
   "outputs": [],
   "source": [
    "import pandas as pd\n",
    "import matplotlib.pyplot as plt\n",
    "import io\n",
    "import shapefile as shp\n",
    "import seaborn as sns\n",
    "import geopandas as gpd"
   ]
  },
  {
   "cell_type": "code",
   "execution_count": 2,
   "id": "26ce9c03",
   "metadata": {
    "code_folding": [
     0
    ]
   },
   "outputs": [],
   "source": [
    "#Import data\n",
    "#write the references where I obtained this data\n",
    "data = pd.read_csv(\"rced_en.csv\")\n",
    "well_ontario = pd.read_csv(\"Petroleum_Well_ontario.csv\")\n",
    "file = (\"/home/ale/notebook/Vitalis/lpr_000b16a_e/provinces/\")\n",
    "province = gpd.read_file(file)\n",
    "province = province.to_crs(\"EPSG:4326\")\n",
    "data_geo = pd.read_csv(\"geothermal_heating_facilities.csv\")\n",
    "\n",
    "prov = data[\"Province/Territory\"].unique()\n",
    "\n",
    "QC = data[data[\"Province/Territory\"] == 'QC'].reset_index(drop=True) #0(0,0) *\n",
    "BC = data[data[\"Province/Territory\"] == 'BC'].reset_index(drop=True) #1(0,1)\n",
    "YT = data[data[\"Province/Territory\"] == 'YT'].reset_index(drop=True) #2(1,0) *\n",
    "AB = data[data[\"Province/Territory\"] == 'AB'].reset_index(drop=True) #3(1,1)\n",
    "NU = data[data[\"Province/Territory\"] == 'NU'].reset_index(drop=True) #4(2,0) *\n",
    "NL = data[data[\"Province/Territory\"] == 'NL'].reset_index(drop=True) #5(2,1)\n",
    "SK = data[data[\"Province/Territory\"] == 'SK'].reset_index(drop=True) #6(3,0) *\n",
    "MB = data[data[\"Province/Territory\"] == 'MB'].reset_index(drop=True) #7(3,1)\n",
    "NT = data[data[\"Province/Territory\"] == 'NT'].reset_index(drop=True) #8(4,0) *\n",
    "ON = data[data[\"Province/Territory\"] == 'ON'].reset_index(drop=True) #9(4,1)"
   ]
  },
  {
   "cell_type": "code",
   "execution_count": 3,
   "id": "267a3392",
   "metadata": {},
   "outputs": [
    {
     "data": {
      "text/plain": [
       "Indigenous        169\n",
       "Non-indigenous     94\n",
       "Non-Indigenous     13\n",
       "Name: Community classification, dtype: int64"
      ]
     },
     "execution_count": 3,
     "metadata": {},
     "output_type": "execute_result"
    }
   ],
   "source": [
    "#There are 169 Indigenous remmote communities and 107 non-indigenous remmote communities \n",
    "data[\"Community classification\"].value_counts()"
   ]
  },
  {
   "cell_type": "code",
   "execution_count": 22,
   "id": "e9023963",
   "metadata": {
    "code_folding": [
     0
    ]
   },
   "outputs": [
    {
     "data": {
      "image/png": "[encoded data removed]",
      "text/plain": [
       "<Figure size 576x576 with 1 Axes>"
      ]
     },
     "metadata": {
      "needs_background": "light"
     },
     "output_type": "display_data"
    }
   ],
   "source": [
    "#\n",
    "data[\"Community classification\"].replace('Non-indigenous', 'Non-Indigenous', inplace=True)\n",
    "data.groupby('Province/Territory')[\"Community classification\"].value_counts().unstack(1).plot.bar(figsize=(8,8))\n",
    "plt.legend()\n",
    "plt.show()"
   ]
  },
  {
   "cell_type": "code",
   "execution_count": 23,
   "id": "6c7b426d",
   "metadata": {},
   "outputs": [
    {
     "data": {
      "text/plain": [
       "BC    75\n",
       "QC    42\n",
       "NT    38\n",
       "ON    30\n",
       "NU    28\n",
       "NL    28\n",
       "YT    22\n",
       "AB     7\n",
       "MB     5\n",
       "SK     1\n",
       "Name: Province/Territory, dtype: int64"
      ]
     },
     "execution_count": 23,
     "metadata": {},
     "output_type": "execute_result"
    }
   ],
   "source": [
    "#British Columbia is the province with more remote communities\n",
    "data[\"Province/Territory\"].value_counts()"
   ]
  },
  {
   "cell_type": "code",
   "execution_count": 25,
   "id": "b3e0f4b2",
   "metadata": {
    "code_folding": [
     0
    ]
   },
   "outputs": [
    {
     "data": {
      "image/png": "[encoded data removed]",
      "text/plain": [
       "<Figure size 576x576 with 1 Axes>"
      ]
     },
     "metadata": {
      "needs_background": "light"
     },
     "output_type": "display_data"
    }
   ],
   "source": [
    "#data[\"Community record status\"].describe\n",
    "# WHAT IS THE YUKON OR NWT GRID\n",
    "#WHAT IS THE YUKON MAIN SOURCE OF POWER\n",
    "#CHECK THE GRID MAP\n",
    "data.groupby(\"Province/Territory\")[\"Community record status\"].value_counts().unstack(1).plot.bar(figsize=(8,8))\n",
    "plt.legend()\n",
    "plt.show()"
   ]
  },
  {
   "cell_type": "code",
   "execution_count": 29,
   "id": "ee0c7bf6",
   "metadata": {
    "code_folding": [
     0
    ]
   },
   "outputs": [
    {
     "data": {
      "text/plain": [
       "'output = io.StringIO()\\n\\nfor i,j in zip(prov,range(len(prov))):\\n    if j%2==0:\\n        print(\"{}[\\'Main power source\\'].value_counts().plot.pie(ax=ax[{}][0])\".format(i,int(j/2)), file=output)\\n        print(\"ax[{}][0].set_title(\\'{}\\')\".format(int(j/2),i), file=output) \\n        print(\"ax[{}][0].set_ylabel(\\'\\')\".format(int(j/2),i), file=output)     \\n\\n    else:\\n        print(\"{}[\\'Main power source\\'].value_counts().plot.pie(ax=ax[{}][1])\".format(i,int(j/2)),file=output)\\n        print(\"ax[{}][1].set_title(\\'{}\\')\".format(int(j/2),i),file=output)\\n        print(\"ax[{}][1].set_ylabel(\\'\\')\".format(int(j/2),i), file=output)     \\n\\n        \\nplot_MPS = output.getvalue()    \\n\\noutput.close()\\n\\n#plot_MPS'"
      ]
     },
     "execution_count": 29,
     "metadata": {},
     "output_type": "execute_result"
    }
   ],
   "source": [
    "#\n",
    "\"\"\"output = io.StringIO()\n",
    "\n",
    "for i,j in zip(prov,range(len(prov))):\n",
    "    if j%2==0:\n",
    "        print(\"{}['Main power source'].value_counts().plot.pie(ax=ax[{}][0])\".format(i,int(j/2)), file=output)\n",
    "        print(\"ax[{}][0].set_title('{}')\".format(int(j/2),i), file=output) \n",
    "        print(\"ax[{}][0].set_ylabel('')\".format(int(j/2),i), file=output)     \n",
    "\n",
    "    else:\n",
    "        print(\"{}['Main power source'].value_counts().plot.pie(ax=ax[{}][1])\".format(i,int(j/2)),file=output)\n",
    "        print(\"ax[{}][1].set_title('{}')\".format(int(j/2),i),file=output)\n",
    "        print(\"ax[{}][1].set_ylabel('')\".format(int(j/2),i), file=output)     \n",
    "\n",
    "        \n",
    "plot_MPS = output.getvalue()    \n",
    "\n",
    "output.close()\n",
    "\n",
    "#plot_MPS\"\"\""
   ]
  },
  {
   "cell_type": "code",
   "execution_count": 30,
   "id": "d2dbe3b0",
   "metadata": {
    "code_folding": [
     0
    ],
    "scrolled": true
   },
   "outputs": [
    {
     "data": {
      "text/plain": [
       "\"fig, ax = plt.subplots(5, 2, figsize=(15, 15))\\nQC['Main power source'].value_counts().plot.pie(ax=ax[0][0])\\nax[0][0].set_title('QC')\\nax[0][0].set_ylabel('')\\nBC['Main power source'].value_counts().plot.pie(ax=ax[0][1])\\nax[0][1].set_title('BC')\\nax[0][1].set_ylabel('')\\nYT['Main power source'].value_counts().plot.pie(ax=ax[1][0])\\nax[1][0].set_title('YT')\\nax[1][0].set_ylabel('')\\nAB['Main power source'].value_counts().plot.pie(ax=ax[1][1])\\nax[1][1].set_title('AB')\\nax[1][1].set_ylabel('')\\nNU['Main power source'].value_counts().plot.pie(ax=ax[2][0])\\nax[2][0].set_title('NU')\\nax[2][0].set_ylabel('')\\nNL['Main power source'].value_counts().plot.pie(ax=ax[2][1])\\nax[2][1].set_title('NL')\\nax[2][1].set_ylabel('')\\nSK['Main power source'].value_counts().plot.pie(ax=ax[3][0])\\nax[3][0].set_title('SK')\\nax[3][0].set_ylabel('')\\nMB['Main power source'].value_counts().plot.pie(ax=ax[3][1])\\nax[3][1].set_title('MB')\\nax[3][1].set_ylabel('')\\nNT['Main power source'].value_counts().plot.pie(ax=ax[4][0])\\nax[4][0].set_title('NT')\\nax[4][0].set_ylabel('')\\nON['Main power source'].value_counts().plot.pie(ax=ax[4][1])\\nax[4][1].set_title('ON')\\nax[4][1].set_ylabel('')\\n\\nplt.show()\""
      ]
     },
     "execution_count": 30,
     "metadata": {},
     "output_type": "execute_result"
    }
   ],
   "source": [
    "#\n",
    "\n",
    "\"\"\"fig, ax = plt.subplots(5, 2, figsize=(15, 15))\n",
    "QC['Main power source'].value_counts().plot.pie(ax=ax[0][0])\n",
    "ax[0][0].set_title('QC')\n",
    "ax[0][0].set_ylabel('')\n",
    "BC['Main power source'].value_counts().plot.pie(ax=ax[0][1])\n",
    "ax[0][1].set_title('BC')\n",
    "ax[0][1].set_ylabel('')\n",
    "YT['Main power source'].value_counts().plot.pie(ax=ax[1][0])\n",
    "ax[1][0].set_title('YT')\n",
    "ax[1][0].set_ylabel('')\n",
    "AB['Main power source'].value_counts().plot.pie(ax=ax[1][1])\n",
    "ax[1][1].set_title('AB')\n",
    "ax[1][1].set_ylabel('')\n",
    "NU['Main power source'].value_counts().plot.pie(ax=ax[2][0])\n",
    "ax[2][0].set_title('NU')\n",
    "ax[2][0].set_ylabel('')\n",
    "NL['Main power source'].value_counts().plot.pie(ax=ax[2][1])\n",
    "ax[2][1].set_title('NL')\n",
    "ax[2][1].set_ylabel('')\n",
    "SK['Main power source'].value_counts().plot.pie(ax=ax[3][0])\n",
    "ax[3][0].set_title('SK')\n",
    "ax[3][0].set_ylabel('')\n",
    "MB['Main power source'].value_counts().plot.pie(ax=ax[3][1])\n",
    "ax[3][1].set_title('MB')\n",
    "ax[3][1].set_ylabel('')\n",
    "NT['Main power source'].value_counts().plot.pie(ax=ax[4][0])\n",
    "ax[4][0].set_title('NT')\n",
    "ax[4][0].set_ylabel('')\n",
    "ON['Main power source'].value_counts().plot.pie(ax=ax[4][1])\n",
    "ax[4][1].set_title('ON')\n",
    "ax[4][1].set_ylabel('')\n",
    "\n",
    "plt.show()\"\"\"\n"
   ]
  },
  {
   "cell_type": "code",
   "execution_count": 31,
   "id": "aa9e4d5d",
   "metadata": {},
   "outputs": [
    {
     "data": {
      "text/plain": [
       "Province/Territory  Main power source\n",
       "AB                  Diesel                6\n",
       "                    Natural Gas           1\n",
       "BC                  Diesel               55\n",
       "                    Hydro                14\n",
       "                    Unknown               6\n",
       "MB                  Diesel                5\n",
       "NL                  Diesel               22\n",
       "                    Hydro                 6\n",
       "NT                  Diesel               27\n",
       "                    Prov./terr. grid      9\n",
       "                    Natural Gas           2\n",
       "NU                  Diesel               28\n",
       "ON                  Diesel               30\n",
       "QC                  Diesel               22\n",
       "                    Hydro                15\n",
       "                    Heavy fuel oil        3\n",
       "                    Natural Gas           1\n",
       "                    Other                 1\n",
       "SK                  Diesel                1\n",
       "YT                  Prov./terr. grid     17\n",
       "                    Diesel                5\n",
       "Name: Main power source, dtype: int64"
      ]
     },
     "execution_count": 31,
     "metadata": {},
     "output_type": "execute_result"
    }
   ],
   "source": [
    "data.groupby(\"Province/Territory\")['Main power source'].value_counts()"
   ]
  },
  {
   "cell_type": "code",
   "execution_count": null,
   "id": "ca324031",
   "metadata": {},
   "outputs": [],
   "source": [
    "#There are 4 provinces in which there is not renewable energy generation\n",
    "#Could be interisting to chech if there is any geothermal potential\n",
    "data.groupby(\"Province/Territory\")[\"Total renewable energy generation (kW)\"].describe()"
   ]
  },
  {
   "cell_type": "code",
   "execution_count": null,
   "id": "daced88c",
   "metadata": {},
   "outputs": [],
   "source": [
    "data.groupby(\"Province/Territory\")[\"Total fossil fuel generating capacity (kW)\"].describe()"
   ]
  },
  {
   "cell_type": "code",
   "execution_count": null,
   "id": "94bb5efe",
   "metadata": {},
   "outputs": [],
   "source": [
    "colors = {'QC':'blue', 'BC':'orange', 'YT':'green', 'AB':'red', 'NU':'purple', 'NL':'brown', 'SK':'pink', 'MB':'gray', 'NT':'olive', 'ON':'cyan'}"
   ]
  },
  {
   "cell_type": "code",
   "execution_count": null,
   "id": "7a430cf9",
   "metadata": {},
   "outputs": [],
   "source": [
    "#Quebec has the total fossil fuel generating capacity (kW)\n",
    "#How many active or abandoned wells are in Quebec according to this?\n",
    "#How is the renewable energy potential in Quebec?\n",
    "\n",
    "#pie chart off grid\n",
    "data[\"Province/Territory\"].value_counts().plot.pie()"
   ]
  },
  {
   "cell_type": "code",
   "execution_count": null,
   "id": "b86d2a5f",
   "metadata": {},
   "outputs": [],
   "source": [
    "fig, ax = plt.subplots(1, 3)\n",
    "colors = {'QC':'blue', 'BC':'orange', 'YT':'green', 'AB':'red', 'NU':'purple', 'NL':'brown', 'SK':'pink', 'MB':'gray', 'NT':'olive', 'ON':'cyan'}\n",
    "data.groupby(\"Province/Territory\")[\"Total fossil fuel generating capacity (kW)\"].sum().sort_values().plot.pie(autopct='%1.1f%%',shadow=True,colors=[colors[v] for v in data.groupby(\"Province/Territory\")[\"Total fossil fuel generating capacity (kW)\"].sum().sort_values().keys()], legend=True, figsize=(15, 15),title='Total fossil fuel generating capacity (kW)', ylabel='', labeldistance=None,ax=ax[0])\n",
    "data.groupby(\"Province/Territory\")[\"Total renewable energy generation (kW)\"].sum().sort_values().plot.pie(autopct='%1.1f%%',colors=[colors[v] for v in data.groupby(\"Province/Territory\")[\"Total renewable energy generation (kW)\"].sum().sort_values().keys()], figsize=(15, 15),title='Total renewable energy generation (kW)', ylabel='', labeldistance=None,ax=ax[1])\n",
    "data.groupby(\"Province/Territory\")[\"Population\"].sum().sort_values().plot.pie(autopct='%1.1f%%', colors=[colors[v] for v in data.groupby(\"Province/Territory\")[\"Population\"].sum().sort_values().keys()],shadow=True,  figsize=(15, 15),title='Remote communities population per province', ylabel='', labeldistance=None,ax=ax[2])\n",
    "fig.tight_layout(pad=0.01)\n",
    "plt.show()"
   ]
  },
  {
   "cell_type": "code",
   "execution_count": null,
   "id": "bf7b5849",
   "metadata": {},
   "outputs": [],
   "source": [
    "#which communities the higher geothermal potential and what is their current main source of power?\n",
    "#which communities are not connectec to the grid\n",
    "#which communities produce renewable energy\n",
    "#carbon capture?\n",
    "#add the data of geothermal potential downloads"
   ]
  },
  {
   "cell_type": "markdown",
   "id": "5ab014df",
   "metadata": {},
   "source": [
    "276 communities"
   ]
  },
  {
   "cell_type": "code",
   "execution_count": null,
   "id": "84f3494a",
   "metadata": {},
   "outputs": [],
   "source": [
    "data[\"Community name\"].describe()"
   ]
  },
  {
   "cell_type": "markdown",
   "id": "0daefd92",
   "metadata": {},
   "source": [
    "200 communities rely on diesel for heat and power"
   ]
  },
  {
   "cell_type": "code",
   "execution_count": null,
   "id": "9485a990",
   "metadata": {},
   "outputs": [],
   "source": [
    "#201 communities rely on diesel for heat and power\n",
    "data['Main power source'].describe()"
   ]
  },
  {
   "cell_type": "code",
   "execution_count": null,
   "id": "85409289",
   "metadata": {},
   "outputs": [],
   "source": [
    "data['Main power source'].describe()"
   ]
  },
  {
   "cell_type": "code",
   "execution_count": null,
   "id": "ed34827a",
   "metadata": {},
   "outputs": [],
   "source": [
    "communities_dat = gpd.GeoDataFrame(data,crs=\"EPSG:4326\",geometry=gpd.points_from_xy(data['Longitude (°)'],data['Latitude (°)']))\n",
    "abandoned_well_ontario = gpd.GeoDataFrame(abwell_ON,crs=\"EPSG:4326\",geometry=gpd.points_from_xy(abwell_ON['X'],abwell_ON['Y']))\n",
    "\n",
    "ax = province.plot(color='white',edgecolor=\"0.2\", figsize=(15, 15))\n",
    "province.apply(lambda x: ax.annotate(x.PRENAME, xy=x.geometry.centroid.coords[0], ha='center', fontsize=10),axis=1)\n",
    "communities_dat.plot(ax=ax,label = \"Remote communities in Canada\",markersize=30,color='green',edgecolor=\"0.1\")\n",
    "abandoned_well_ontario.plot(ax=ax,label = \"Abandoned wells\",marker=\"x\",markersize=50,color='red')\n",
    "plt.legend(loc='upper left')\n",
    "plt.show()"
   ]
  },
  {
   "cell_type": "code",
   "execution_count": null,
   "id": "b25cac72",
   "metadata": {},
   "outputs": [],
   "source": [
    "#Geothermal heating facilities\n",
    "\n",
    "geo_heating_facilities_provinces = data_geo[\"Province or territory\"].unique()\n",
    "geo_heating_facilities_provinces"
   ]
  },
  {
   "cell_type": "code",
   "execution_count": null,
   "id": "bdafe73f",
   "metadata": {},
   "outputs": [],
   "source": [
    "data_geo"
   ]
  },
  {
   "cell_type": "code",
   "execution_count": null,
   "id": "ed2fcbc1",
   "metadata": {},
   "outputs": [],
   "source": [
    "pd.read_csv('carbon_capture.csv')"
   ]
  },
  {
   "cell_type": "code",
   "execution_count": null,
   "id": "b8971032",
   "metadata": {},
   "outputs": [],
   "source": [
    "#find the locations of depleted wells abandoned\n",
    "#ask for the shape file of geothermal potential in canada"
   ]
  },
  {
   "cell_type": "code",
   "execution_count": null,
   "id": "395351fc",
   "metadata": {},
   "outputs": [],
   "source": [
    "well_ontario[\"WELL_MODE\"].unique()"
   ]
  },
  {
   "cell_type": "code",
   "execution_count": null,
   "id": "c4f4484b",
   "metadata": {},
   "outputs": [],
   "source": [
    "abwell_ON = well_ontario[well_ontario[\"WELL_MODE\"]==\"Abandoned Well\"]\n",
    "colors = plt.get_cmap('Blues')(np.linspace(0.2, 0.7, 2))\n",
    "abwell_ON.WELL_TYPE.value_counts().plot.pie(autopct='%1.1f%%',legend=True, figsize=(15, 15),title='Abandoned Wells in Ontario', ylabel='', labeldistance=None)\n",
    "ax.legend(bbox_to_anchor=(1, 1), loc='right')\n",
    "plt.show()"
   ]
  }
 ],
 "metadata": {
  "kernelspec": {
   "display_name": "Python 3 (ipykernel)",
   "language": "python",
   "name": "python3"
  },
  "language_info": {
   "codemirror_mode": {
    "name": "ipython",
    "version": 3
   },
   "file_extension": ".py",
   "mimetype": "text/x-python",
   "name": "python",
   "nbconvert_exporter": "python",
   "pygments_lexer": "ipython3",
   "version": "3.8.10"
  },
  "latex_envs": {
   "LaTeX_envs_menu_present": true,
   "autoclose": false,
   "autocomplete": true,
   "bibliofile": "biblio.bib",
   "cite_by": "apalike",
   "current_citInitial": 1,
   "eqLabelWithNumbers": true,
   "eqNumInitial": 1,
   "hotkeys": {
    "equation": "Ctrl-E",
    "itemize": "Ctrl-I"
   },
   "labels_anchors": false,
   "latex_user_defs": false,
   "report_style_numbering": false,
   "user_envs_cfg": false
  },
  "varInspector": {
   "cols": {
    "lenName": 16,
    "lenType": 16,
    "lenVar": 40
   },
   "kernels_config": {
    "python": {
     "delete_cmd_postfix": "",
     "delete_cmd_prefix": "del ",
     "library": "var_list.py",
     "varRefreshCmd": "print(var_dic_list())"
    },
    "r": {
     "delete_cmd_postfix": ") ",
     "delete_cmd_prefix": "rm(",
     "library": "var_list.r",
     "varRefreshCmd": "cat(var_dic_list()) "
    }
   },
   "types_to_exclude": [
    "module",
    "function",
    "builtin_function_or_method",
    "instance",
    "_Feature"
   ],
   "window_display": false
  }
 },
 "nbformat": 4,
 "nbformat_minor": 5
}
