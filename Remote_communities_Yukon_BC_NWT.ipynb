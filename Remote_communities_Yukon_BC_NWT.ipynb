{
 "cells": [
  {
   "cell_type": "code",
   "execution_count": 1,
   "id": "e98b0b47",
   "metadata": {},
   "outputs": [],
   "source": [
    "import pandas as pd\n",
    "import matplotlib.pyplot as plt\n",
    "import io\n",
    "import shapefile as shp\n",
    "import seaborn as sns\n",
    "import geopandas as gpd\n",
    "\n",
    "data         = pd.read_csv(\"rced_en.csv\")\n",
    "data_geo     = pd.read_csv(\"geothermal_heating_facilities.csv\")\n",
    "well_ontario = pd.read_csv(\"Petroleum_Well_ontario.csv\")\n",
    "\n",
    "data[\"Community classification\"].replace('Non-indigenous', 'Non-Indigenous', inplace=True)\n",
    "replacement = {'QC':'Quebec', 'BC':'British Columbia', 'YT':'Yukon', 'AB':'Alberta', 'NU':'Nunavut', 'NL':'Newfoundland and Labrador', 'SK':'Saskatchewan', 'MB':'Manitoba', 'NT':'Northwest Territories', 'ON':'Ontario'}\n",
    "data[\"Province/Territory\"].replace(replacement,inplace=True)"
   ]
  },
  {
   "cell_type": "code",
   "execution_count": 2,
   "id": "98c5b581",
   "metadata": {},
   "outputs": [
    {
     "data": {
      "text/plain": [
       "British Columbia             75\n",
       "Quebec                       42\n",
       "Northwest Territories        38\n",
       "Ontario                      30\n",
       "Nunavut                      28\n",
       "Newfoundland and Labrador    28\n",
       "Yukon                        22\n",
       "Alberta                       7\n",
       "Manitoba                      5\n",
       "Saskatchewan                  1\n",
       "Name: Province/Territory, dtype: int64"
      ]
     },
     "execution_count": 2,
     "metadata": {},
     "output_type": "execute_result"
    }
   ],
   "source": [
    "data[\"Province/Territory\"].value_counts()"
   ]
  },
  {
   "cell_type": "code",
   "execution_count": 6,
   "id": "91a5e77c",
   "metadata": {},
   "outputs": [
    {
     "data": {
      "image/png": "[encoded data removed]",
      "text/plain": [
       "<Figure size 612x288 with 1 Axes>"
      ]
     },
     "metadata": {
      "needs_background": "light"
     },
     "output_type": "display_data"
    }
   ],
   "source": [
    "provinces0 = data.groupby(\"Province/Territory\")\n",
    "BC_Y_NWT = pd.concat([provinces0.get_group('British Columbia'), provinces0.get_group('Yukon'),provinces0.get_group('Northwest Territories')])\n",
    "s = BC_Y_NWT.groupby(\"Province/Territory\")[\"Main power source\"].value_counts(normalize=True).mul(100)\n",
    "s.unstack().plot.barh(figsize = (8.5,4),stacked=True,colormap='RdYlGn')\n",
    "plt.legend(ncol=len(BC_Y_NWT.groupby(\"Province/Territory\")[\"Main power source\"].value_counts(normalize=True)), bbox_to_anchor=(0, 1),\n",
    "                  loc='lower left', fontsize='medium')\n",
    "plt.xlim(0,100)\n",
    "resolution_value = 1200\n",
    "plt.savefig(\"provinces.png\", format=\"png\", dpi=resolution_value,bbox_inches = 'tight')\n",
    "plt.show()\n"
   ]
  },
  {
   "cell_type": "code",
   "execution_count": null,
   "id": "ec130436",
   "metadata": {},
   "outputs": [],
   "source": []
  }
 ],
 "metadata": {
  "kernelspec": {
   "display_name": "Python 3 (ipykernel)",
   "language": "python",
   "name": "python3"
  },
  "language_info": {
   "codemirror_mode": {
    "name": "ipython",
    "version": 3
   },
   "file_extension": ".py",
   "mimetype": "text/x-python",
   "name": "python",
   "nbconvert_exporter": "python",
   "pygments_lexer": "ipython3",
   "version": "3.8.10"
  },
  "latex_envs": {
   "LaTeX_envs_menu_present": true,
   "autoclose": false,
   "autocomplete": true,
   "bibliofile": "biblio.bib",
   "cite_by": "apalike",
   "current_citInitial": 1,
   "eqLabelWithNumbers": true,
   "eqNumInitial": 1,
   "hotkeys": {
    "equation": "Ctrl-E",
    "itemize": "Ctrl-I"
   },
   "labels_anchors": false,
   "latex_user_defs": false,
   "report_style_numbering": false,
   "user_envs_cfg": false
  },
  "varInspector": {
   "cols": {
    "lenName": 16,
    "lenType": 16,
    "lenVar": 40
   },
   "kernels_config": {
    "python": {
     "delete_cmd_postfix": "",
     "delete_cmd_prefix": "del ",
     "library": "var_list.py",
     "varRefreshCmd": "print(var_dic_list())"
    },
    "r": {
     "delete_cmd_postfix": ") ",
     "delete_cmd_prefix": "rm(",
     "library": "var_list.r",
     "varRefreshCmd": "cat(var_dic_list()) "
    }
   },
   "types_to_exclude": [
    "module",
    "function",
    "builtin_function_or_method",
    "instance",
    "_Feature"
   ],
   "window_display": false
  }
 },
 "nbformat": 4,
 "nbformat_minor": 5
}
